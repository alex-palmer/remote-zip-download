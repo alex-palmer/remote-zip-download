{
 "cells": [
  {
   "cell_type": "code",
   "execution_count": 9,
   "metadata": {},
   "outputs": [
    {
     "ename": "PermissionError",
     "evalue": "[Errno 13] Permission denied: 'C:\\\\AlexGIS\\\\temp'",
     "output_type": "error",
     "traceback": [
      "\u001b[1;31m---------------------------------------------------------------------------\u001b[0m",
      "\u001b[1;31mPermissionError\u001b[0m                           Traceback (most recent call last)",
      "\u001b[1;32m<ipython-input-9-101022fa2385>\u001b[0m in \u001b[0;36m<module>\u001b[1;34m()\u001b[0m\n\u001b[0;32m     45\u001b[0m     \u001b[1;31m############ Get data!\u001b[0m\u001b[1;33m\u001b[0m\u001b[1;33m\u001b[0m\u001b[0m\n\u001b[0;32m     46\u001b[0m     \u001b[1;32mwith\u001b[0m \u001b[0murllib\u001b[0m\u001b[1;33m.\u001b[0m\u001b[0mrequest\u001b[0m\u001b[1;33m.\u001b[0m\u001b[0murlopen\u001b[0m\u001b[1;33m(\u001b[0m\u001b[0mi\u001b[0m\u001b[1;33m)\u001b[0m \u001b[1;32mas\u001b[0m \u001b[0mresponse\u001b[0m\u001b[1;33m:\u001b[0m\u001b[1;33m\u001b[0m\u001b[0m\n\u001b[1;32m---> 47\u001b[1;33m         \u001b[1;32mwith\u001b[0m \u001b[0mopen\u001b[0m\u001b[1;33m(\u001b[0m\u001b[0mlocalFileLocation\u001b[0m\u001b[1;33m,\u001b[0m \u001b[1;34m'wb'\u001b[0m\u001b[1;33m)\u001b[0m \u001b[1;32mas\u001b[0m \u001b[0moutFile\u001b[0m\u001b[1;33m:\u001b[0m\u001b[1;33m\u001b[0m\u001b[0m\n\u001b[0m\u001b[0;32m     48\u001b[0m             \u001b[0mdata\u001b[0m \u001b[1;33m=\u001b[0m \u001b[0mresponse\u001b[0m\u001b[1;33m.\u001b[0m\u001b[0mread\u001b[0m\u001b[1;33m(\u001b[0m\u001b[1;33m)\u001b[0m\u001b[1;33m\u001b[0m\u001b[0m\n\u001b[0;32m     49\u001b[0m             \u001b[0moutFile\u001b[0m\u001b[1;33m.\u001b[0m\u001b[0mwrite\u001b[0m\u001b[1;33m(\u001b[0m\u001b[0mdata\u001b[0m\u001b[1;33m)\u001b[0m\u001b[1;33m\u001b[0m\u001b[0m\n",
      "\u001b[1;31mPermissionError\u001b[0m: [Errno 13] Permission denied: 'C:\\\\AlexGIS\\\\temp'"
     ]
    }
   ],
   "source": [
    "#Save and Extract Remote Data Script\n",
    "\n",
    "NAIP_2018_2ft = ['ftp://ftp.kymartian.ky.gov/FSA_NAIP_2018_2FT/ky_2ft_naip_2018_N062E147.zip',\n",
    "'ftp://ftp.kymartian.ky.gov/FSA_NAIP_2018_2FT/ky_2ft_naip_2018_N062E148.zip',\n",
    "'ftp://ftp.kymartian.ky.gov/FSA_NAIP_2018_2FT/ky_2ft_naip_2018_N063E146.zip',\n",
    "'ftp://ftp.kymartian.ky.gov/FSA_NAIP_2018_2FT/ky_2ft_naip_2018_N063E147.zip',\n",
    "'ftp://ftp.kymartian.ky.gov/FSA_NAIP_2018_2FT/ky_2ft_naip_2018_N063E148.zip',\n",
    "'ftp://ftp.kymartian.ky.gov/FSA_NAIP_2018_2FT/ky_2ft_naip_2018_N064E146.zip',\n",
    "'ftp://ftp.kymartian.ky.gov/FSA_NAIP_2018_2FT/ky_2ft_naip_2018_N064E147.zip',\n",
    "'ftp://ftp.kymartian.ky.gov/FSA_NAIP_2018_2FT/ky_2ft_naip_2018_N064E148.zip',\n",
    "'ftp://ftp.kymartian.ky.gov/FSA_NAIP_2018_2FT/ky_2ft_naip_2018_N065E146.zip',\n",
    "'ftp://ftp.kymartian.ky.gov/FSA_NAIP_2018_2FT/ky_2ft_naip_2018_N065E147.zip',\n",
    "'ftp://ftp.kymartian.ky.gov/FSA_NAIP_2018_2FT/ky_2ft_naip_2018_N066E146.zip',\n",
    "'ftp://ftp.kymartian.ky.gov/FSA_NAIP_2018_2FT/ky_2ft_naip_2018_N066E147.zip',\n",
    "'ftp://ftp.kymartian.ky.gov/FSA_NAIP_2018_2FT/ky_2ft_naip_2018_N067E146.zip',\n",
    "'ftp://ftp.kymartian.ky.gov/FSA_NAIP_2018_2FT/ky_2ft_naip_2018_N067E147.zip',\n",
    "'ftp://ftp.kymartian.ky.gov/FSA_NAIP_2018_2FT/ky_2ft_naip_2018_N067E148.zip',\n",
    "'ftp://ftp.kymartian.ky.gov/FSA_NAIP_2018_2FT/ky_2ft_naip_2018_N068E146.zip',\n",
    "'ftp://ftp.kymartian.ky.gov/FSA_NAIP_2018_2FT/ky_2ft_naip_2018_N068E147.zip',\n",
    "'ftp://ftp.kymartian.ky.gov/FSA_NAIP_2018_2FT/ky_2ft_naip_2018_N068E148.zip',\n",
    "'ftp://ftp.kymartian.ky.gov/FSA_NAIP_2018_2FT/ky_2ft_naip_2018_N069E146.zip',\n",
    "'ftp://ftp.kymartian.ky.gov/FSA_NAIP_2018_2FT/ky_2ft_naip_2018_N069E147.zip',\n",
    "'ftp://ftp.kymartian.ky.gov/FSA_NAIP_2018_2FT/ky_2ft_naip_2018_N070E146.zip',\n",
    "'ftp://ftp.kymartian.ky.gov/FSA_NAIP_2018_2FT/ky_2ft_naip_2018_N070E147.zip',\n",
    "'ftp://ftp.kymartian.ky.gov/FSA_NAIP_2018_2FT/ky_2ft_naip_2018_N071E146.zip',\n",
    "'ftp://ftp.kymartian.ky.gov/FSA_NAIP_2018_2FT/ky_2ft_naip_2018_N071E147.zip',\n",
    "'ftp://ftp.kymartian.ky.gov/FSA_NAIP_2018_2FT/ky_2ft_naip_2018_N072E146.zip',\n",
    "'ftp://ftp.kymartian.ky.gov/FSA_NAIP_2018_2FT/ky_2ft_naip_2018_N072E147.zip',\n",
    "'ftp://ftp.kymartian.ky.gov/FSA_NAIP_2018_2FT/ky_2ft_naip_2018_N073E146.zip',\n",
    "'ftp://ftp.kymartian.ky.gov/FSA_NAIP_2018_2FT/ky_2ft_naip_2018_N073E147.zip',\n",
    "'ftp://ftp.kymartian.ky.gov/FSA_NAIP_2018_2FT/ky_2ft_naip_2018_N074E146.zip',\n",
    "'ftp://ftp.kymartian.ky.gov/FSA_NAIP_2018_2FT/ky_2ft_naip_2018_N074E147.zip',\n",
    "]\n",
    "\n",
    "import urllib.request\n",
    "from zipfile import ZipFile\n",
    "import subprocess\n",
    "\n",
    "############ Set environment and variables\n",
    "localFileLocation = f\"C:\\\\AlexGIS\\\\temp\\\\{i[-12::]}\"\n",
    "extractedFileLocation = f'U:\\\\GIS\\\\Aerial\\\\Kentucky\\\\Lincoln\\\\NAIP_2018_2ft'\n",
    "command = f\"dir {extractedFileLocation}\"\n",
    "\n",
    "for i in NAIP_2018_2ft:\n",
    "    ############ Get data!\n",
    "    with urllib.request.urlopen(i) as response: \n",
    "        with open(localFileLocation, 'wb') as outFile:\n",
    "            data = response.read()\n",
    "            outFile.write(data)        \n",
    "\n",
    "    ############ Extract data!\n",
    "    with ZipFile(localFileLocation, 'r') as zip:\n",
    "        zip.extractall(extractedFileLocation)\n",
    "        print(zip.namelist())"
   ]
  },
  {
   "cell_type": "code",
   "execution_count": null,
   "metadata": {},
   "outputs": [],
   "source": []
  }
 ],
 "metadata": {
  "kernelspec": {
   "display_name": "Python 3",
   "language": "python",
   "name": "python3"
  },
  "language_info": {
   "codemirror_mode": {
    "name": "ipython",
    "version": 3
   },
   "file_extension": ".py",
   "mimetype": "text/x-python",
   "name": "python",
   "nbconvert_exporter": "python",
   "pygments_lexer": "ipython3",
   "version": "3.6.5"
  }
 },
 "nbformat": 4,
 "nbformat_minor": 2
}
