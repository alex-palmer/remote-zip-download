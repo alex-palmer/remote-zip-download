{
 "cells": [
  {
   "cell_type": "code",
   "execution_count": 45,
   "metadata": {},
   "outputs": [
    {
     "name": "stdout",
     "output_type": "stream",
     "text": [
      "['KY_2FT_NAIP_2018_N046E150.tfw', 'KY_2FT_NAIP_2018_N046E150.tif', 'KY_2FT_NAIP_2018_N046E150.tif.aux.xml', 'KY_2FT_NAIP_2018_N046E150.tif.xml']\n",
      "['KY_2FT_NAIP_2018_N046E151.tfw', 'KY_2FT_NAIP_2018_N046E151.tif', 'KY_2FT_NAIP_2018_N046E151.tif.aux.xml', 'KY_2FT_NAIP_2018_N046E151.tif.xml']\n",
      "['KY_2FT_NAIP_2018_N046E152.tfw', 'KY_2FT_NAIP_2018_N046E152.tif', 'KY_2FT_NAIP_2018_N046E152.tif.aux.xml', 'KY_2FT_NAIP_2018_N046E152.tif.xml']\n",
      "['KY_2FT_NAIP_2018_N047E149.tfw', 'KY_2FT_NAIP_2018_N047E149.tif', 'KY_2FT_NAIP_2018_N047E149.tif.aux.xml', 'KY_2FT_NAIP_2018_N047E149.tif.xml']\n",
      "['KY_2FT_NAIP_2018_N047E150.tfw', 'KY_2FT_NAIP_2018_N047E150.tif', 'KY_2FT_NAIP_2018_N047E150.tif.aux.xml', 'KY_2FT_NAIP_2018_N047E150.tif.xml']\n",
      "['KY_2FT_NAIP_2018_N047E151.tfw', 'KY_2FT_NAIP_2018_N047E151.tif', 'KY_2FT_NAIP_2018_N047E151.tif.aux.xml', 'KY_2FT_NAIP_2018_N047E151.tif.xml']\n",
      "['KY_2FT_NAIP_2018_N047E152.tfw', 'KY_2FT_NAIP_2018_N047E152.tif', 'KY_2FT_NAIP_2018_N047E152.tif.aux.xml', 'KY_2FT_NAIP_2018_N047E152.tif.xml']\n",
      "['KY_2FT_NAIP_2018_N048E149.tfw', 'KY_2FT_NAIP_2018_N048E149.tif', 'KY_2FT_NAIP_2018_N048E149.tif.aux.xml', 'KY_2FT_NAIP_2018_N048E149.tif.xml']\n",
      "['KY_2FT_NAIP_2018_N048E150.tfw', 'KY_2FT_NAIP_2018_N048E150.tif', 'KY_2FT_NAIP_2018_N048E150.tif.aux.xml', 'KY_2FT_NAIP_2018_N048E150.tif.xml']\n",
      "['KY_2FT_NAIP_2018_N048E151.tfw', 'KY_2FT_NAIP_2018_N048E151.tif', 'KY_2FT_NAIP_2018_N048E151.tif.aux.xml', 'KY_2FT_NAIP_2018_N048E151.tif.xml']\n",
      "['KY_2FT_NAIP_2018_N048E152.tfw', 'KY_2FT_NAIP_2018_N048E152.tif', 'KY_2FT_NAIP_2018_N048E152.tif.aux.xml', 'KY_2FT_NAIP_2018_N048E152.tif.xml']\n",
      "['KY_2FT_NAIP_2018_N049E149.tfw', 'KY_2FT_NAIP_2018_N049E149.tif', 'KY_2FT_NAIP_2018_N049E149.tif.aux.xml', 'KY_2FT_NAIP_2018_N049E149.tif.xml']\n",
      "['KY_2FT_NAIP_2018_N049E150.tfw', 'KY_2FT_NAIP_2018_N049E150.tif', 'KY_2FT_NAIP_2018_N049E150.tif.aux.xml', 'KY_2FT_NAIP_2018_N049E150.tif.xml']\n",
      "['KY_2FT_NAIP_2018_N049E151.tfw', 'KY_2FT_NAIP_2018_N049E151.tif', 'KY_2FT_NAIP_2018_N049E151.tif.aux.xml', 'KY_2FT_NAIP_2018_N049E151.tif.xml']\n",
      "['KY_2FT_NAIP_2018_N049E152.tfw', 'KY_2FT_NAIP_2018_N049E152.tif', 'KY_2FT_NAIP_2018_N049E152.tif.aux.xml', 'KY_2FT_NAIP_2018_N049E152.tif.xml']\n",
      "['KY_2FT_NAIP_2018_N050E149.tfw', 'KY_2FT_NAIP_2018_N050E149.tif', 'KY_2FT_NAIP_2018_N050E149.tif.aux.xml', 'KY_2FT_NAIP_2018_N050E149.tif.xml']\n",
      "['KY_2FT_NAIP_2018_N050E150.tfw', 'KY_2FT_NAIP_2018_N050E150.tif', 'KY_2FT_NAIP_2018_N050E150.tif.aux.xml', 'KY_2FT_NAIP_2018_N050E150.tif.xml']\n",
      "['KY_2FT_NAIP_2018_N050E151.tfw', 'KY_2FT_NAIP_2018_N050E151.tif', 'KY_2FT_NAIP_2018_N050E151.tif.aux.xml', 'KY_2FT_NAIP_2018_N050E151.tif.xml']\n",
      "['KY_2FT_NAIP_2018_N050E152.tfw', 'KY_2FT_NAIP_2018_N050E152.tif', 'KY_2FT_NAIP_2018_N050E152.tif.aux.xml', 'KY_2FT_NAIP_2018_N050E152.tif.xml']\n",
      "['KY_2FT_NAIP_2018_N051E149.tfw', 'KY_2FT_NAIP_2018_N051E149.tif', 'KY_2FT_NAIP_2018_N051E149.tif.aux.xml', 'KY_2FT_NAIP_2018_N051E149.tif.xml']\n",
      "['KY_2FT_NAIP_2018_N051E150.tfw', 'KY_2FT_NAIP_2018_N051E150.tif', 'KY_2FT_NAIP_2018_N051E150.tif.aux.xml', 'KY_2FT_NAIP_2018_N051E150.tif.xml']\n",
      "['KY_2FT_NAIP_2018_N051E151.tfw', 'KY_2FT_NAIP_2018_N051E151.tif', 'KY_2FT_NAIP_2018_N051E151.tif.aux.xml', 'KY_2FT_NAIP_2018_N051E151.tif.xml']\n",
      "['KY_2FT_NAIP_2018_N051E152.tfw', 'KY_2FT_NAIP_2018_N051E152.tif', 'KY_2FT_NAIP_2018_N051E152.tif.aux.xml', 'KY_2FT_NAIP_2018_N051E152.tif.xml']\n"
     ]
    }
   ],
   "source": [
    "#Save and Extract Remote Data Script\n",
    "\n",
    "NAIP_2018_2ft = [\"ftp://ftp.kymartian.ky.gov/FSA_NAIP_2018_2FT/ky_2ft_naip_2018_N046E150.zip\",\n",
    "\"ftp://ftp.kymartian.ky.gov/FSA_NAIP_2018_2FT/ky_2ft_naip_2018_N046E151.zip\",\n",
    "\"ftp://ftp.kymartian.ky.gov/FSA_NAIP_2018_2FT/ky_2ft_naip_2018_N046E152.zip\",\n",
    "\"ftp://ftp.kymartian.ky.gov/FSA_NAIP_2018_2FT/ky_2ft_naip_2018_N047E149.zip\",\n",
    "\"ftp://ftp.kymartian.ky.gov/FSA_NAIP_2018_2FT/ky_2ft_naip_2018_N047E150.zip\",\n",
    "\"ftp://ftp.kymartian.ky.gov/FSA_NAIP_2018_2FT/ky_2ft_naip_2018_N047E151.zip\",\n",
    "\"ftp://ftp.kymartian.ky.gov/FSA_NAIP_2018_2FT/ky_2ft_naip_2018_N047E152.zip\",\n",
    "\"ftp://ftp.kymartian.ky.gov/FSA_NAIP_2018_2FT/ky_2ft_naip_2018_N048E149.zip\",\n",
    "\"ftp://ftp.kymartian.ky.gov/FSA_NAIP_2018_2FT/ky_2ft_naip_2018_N048E150.zip\",\n",
    "\"ftp://ftp.kymartian.ky.gov/FSA_NAIP_2018_2FT/ky_2ft_naip_2018_N048E151.zip\",\n",
    "\"ftp://ftp.kymartian.ky.gov/FSA_NAIP_2018_2FT/ky_2ft_naip_2018_N048E152.zip\",\n",
    "\"ftp://ftp.kymartian.ky.gov/FSA_NAIP_2018_2FT/ky_2ft_naip_2018_N049E149.zip\",\n",
    "\"ftp://ftp.kymartian.ky.gov/FSA_NAIP_2018_2FT/ky_2ft_naip_2018_N049E150.zip\",\n",
    "\"ftp://ftp.kymartian.ky.gov/FSA_NAIP_2018_2FT/ky_2ft_naip_2018_N049E151.zip\",\n",
    "\"ftp://ftp.kymartian.ky.gov/FSA_NAIP_2018_2FT/ky_2ft_naip_2018_N049E152.zip\",\n",
    "\"ftp://ftp.kymartian.ky.gov/FSA_NAIP_2018_2FT/ky_2ft_naip_2018_N050E149.zip\",\n",
    "\"ftp://ftp.kymartian.ky.gov/FSA_NAIP_2018_2FT/ky_2ft_naip_2018_N050E150.zip\",\n",
    "\"ftp://ftp.kymartian.ky.gov/FSA_NAIP_2018_2FT/ky_2ft_naip_2018_N050E151.zip\",\n",
    "\"ftp://ftp.kymartian.ky.gov/FSA_NAIP_2018_2FT/ky_2ft_naip_2018_N050E152.zip\",\n",
    "\"ftp://ftp.kymartian.ky.gov/FSA_NAIP_2018_2FT/ky_2ft_naip_2018_N051E149.zip\",\n",
    "\"ftp://ftp.kymartian.ky.gov/FSA_NAIP_2018_2FT/ky_2ft_naip_2018_N051E150.zip\",\n",
    "\"ftp://ftp.kymartian.ky.gov/FSA_NAIP_2018_2FT/ky_2ft_naip_2018_N051E151.zip\",\n",
    "\"ftp://ftp.kymartian.ky.gov/FSA_NAIP_2018_2FT/ky_2ft_naip_2018_N051E152.zip\"]\n",
    "\n",
    "import urllib.request\n",
    "from zipfile import ZipFile\n",
    "import subprocess\n",
    "\n",
    "############ Set environment and variables\n",
    "localFileLocation = f'/Users/Alex/Documents/Personal Documents/Education/University of Kentucky/2019 Fall/GEO 419, Remote Sensing/NAIP_2018_2ft/{i[-12::]}'\n",
    "extractedFileLocation = '/Users/Alex/Documents/Personal Documents/Education/University of Kentucky/2019 Fall/GEO 419, Remote Sensing/NAIP_2018_2ft/'\n",
    "command = f\"dir {extractedFileLocation}\"\n",
    "\n",
    "for i in NAIP_2018_2ft:\n",
    "    ############ Get data!\n",
    "    with urllib.request.urlopen(i) as response: \n",
    "        with open(localFileLocation, 'wb') as outFile:\n",
    "            data = response.read()\n",
    "            outFile.write(data)        \n",
    "\n",
    "    ############ Extract data!\n",
    "    with ZipFile(localFileLocation, 'r') as zip:\n",
    "        zip.extractall(extractedFileLocation)\n",
    "        print(zip.namelist())"
   ]
  },
  {
   "cell_type": "code",
   "execution_count": null,
   "metadata": {},
   "outputs": [],
   "source": []
  },
  {
   "cell_type": "code",
   "execution_count": null,
   "metadata": {},
   "outputs": [],
   "source": []
  }
 ],
 "metadata": {
  "file_extension": ".py",
  "kernelspec": {
   "display_name": "Python 3",
   "language": "python",
   "name": "python3"
  },
  "language_info": {
   "codemirror_mode": {
    "name": "ipython",
    "version": 3
   },
   "file_extension": ".py",
   "mimetype": "text/x-python",
   "name": "python",
   "nbconvert_exporter": "python",
   "pygments_lexer": "ipython3",
   "version": "3.7.4"
  },
  "mimetype": "text/x-python",
  "name": "python",
  "npconvert_exporter": "python",
  "pygments_lexer": "ipython3",
  "version": 3
 },
 "nbformat": 4,
 "nbformat_minor": 2
}
